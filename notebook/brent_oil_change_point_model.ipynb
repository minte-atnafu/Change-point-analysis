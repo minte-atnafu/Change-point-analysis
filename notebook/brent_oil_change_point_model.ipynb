{
 "cells": [
  {
   "cell_type": "code",
   "execution_count": 1,
   "id": "73314f2a",
   "metadata": {},
   "outputs": [],
   "source": [
    "import pandas as pd\n",
    "import numpy as np\n",
    "import pymc as pm\n",
    "import matplotlib.pyplot as plt\n",
    "import arviz as az\n",
    "from datetime import datetime"
   ]
  },
  {
   "cell_type": "code",
   "execution_count": 4,
   "id": "c11dc811",
   "metadata": {},
   "outputs": [
    {
     "name": "stderr",
     "output_type": "stream",
     "text": [
      "C:\\Users\\mintesinot\\AppData\\Local\\Temp\\ipykernel_28260\\580985952.py:3: UserWarning: The argument 'infer_datetime_format' is deprecated and will be removed in a future version. A strict version of it is now the default, see https://pandas.pydata.org/pdeps/0004-consistent-to-datetime-parsing.html. You can safely remove this argument.\n",
      "  df['Date'] = pd.to_datetime(df['Date'], infer_datetime_format=True)\n",
      "C:\\Users\\mintesinot\\AppData\\Local\\Temp\\ipykernel_28260\\580985952.py:3: UserWarning: Could not infer format, so each element will be parsed individually, falling back to `dateutil`. To ensure parsing is consistent and as-expected, please specify a format.\n",
      "  df['Date'] = pd.to_datetime(df['Date'], infer_datetime_format=True)\n"
     ]
    }
   ],
   "source": [
    "# Load and preprocess data\n",
    "df = pd.read_csv('../data/BrentOilPrices.csv')  # Assumes CSV with 'Date' and 'Price' columns\n",
    "df['Date'] = pd.to_datetime(df['Date'], infer_datetime_format=True)\n",
    "\n",
    "df = df.sort_values('Date')\n",
    "prices = df['Price'].values\n",
    "dates = df['Date'].values\n",
    "time_idx = np.arange(len(prices))"
   ]
  },
  {
   "cell_type": "code",
   "execution_count": 5,
   "id": "aea660e8",
   "metadata": {},
   "outputs": [],
   "source": [
    "# Compute log returns for stationarity\n",
    "log_returns = np.diff(np.log(prices))"
   ]
  },
  {
   "cell_type": "code",
   "execution_count": 6,
   "id": "6342a8af",
   "metadata": {},
   "outputs": [
    {
     "ename": "TypeError",
     "evalue": "RandomVariable.make_node() got an unexpected keyword argument 'sd'",
     "output_type": "error",
     "traceback": [
      "\u001b[31m---------------------------------------------------------------------------\u001b[39m",
      "\u001b[31mTypeError\u001b[39m                                 Traceback (most recent call last)",
      "\u001b[36mCell\u001b[39m\u001b[36m \u001b[39m\u001b[32mIn[6]\u001b[39m\u001b[32m, line 7\u001b[39m\n\u001b[32m      4\u001b[39m tau = pm.DiscreteUniform(\u001b[33m\"\u001b[39m\u001b[33mtau\u001b[39m\u001b[33m\"\u001b[39m, lower=\u001b[32m0\u001b[39m, upper=\u001b[38;5;28mlen\u001b[39m(log_returns)-\u001b[32m1\u001b[39m)\n\u001b[32m      6\u001b[39m \u001b[38;5;66;03m# Priors for mean log returns before and after the change point\u001b[39;00m\n\u001b[32m----> \u001b[39m\u001b[32m7\u001b[39m mu_1 = \u001b[43mpm\u001b[49m\u001b[43m.\u001b[49m\u001b[43mNormal\u001b[49m\u001b[43m(\u001b[49m\u001b[33;43m\"\u001b[39;49m\u001b[33;43mmu_1\u001b[39;49m\u001b[33;43m\"\u001b[39;49m\u001b[43m,\u001b[49m\u001b[43m \u001b[49m\u001b[43mmu\u001b[49m\u001b[43m=\u001b[49m\u001b[32;43m0\u001b[39;49m\u001b[43m,\u001b[49m\u001b[43m \u001b[49m\u001b[43msd\u001b[49m\u001b[43m=\u001b[49m\u001b[32;43m0.1\u001b[39;49m\u001b[43m)\u001b[49m\n\u001b[32m      8\u001b[39m mu_2 = pm.Normal(\u001b[33m\"\u001b[39m\u001b[33mmu_2\u001b[39m\u001b[33m\"\u001b[39m, mu=\u001b[32m0\u001b[39m, sd=\u001b[32m0.1\u001b[39m)\n\u001b[32m     10\u001b[39m \u001b[38;5;66;03m# Prior for standard deviation (volatility)\u001b[39;00m\n",
      "\u001b[36mFile \u001b[39m\u001b[32mc:\\Users\\mintesinot\\week_10\\venv\\Lib\\site-packages\\pymc\\distributions\\distribution.py:529\u001b[39m, in \u001b[36mDistribution.__new__\u001b[39m\u001b[34m(cls, name, rng, dims, initval, observed, total_size, transform, default_transform, *args, **kwargs)\u001b[39m\n\u001b[32m    526\u001b[39m     \u001b[38;5;28;01melif\u001b[39;00m observed \u001b[38;5;129;01mis\u001b[39;00m \u001b[38;5;129;01mnot\u001b[39;00m \u001b[38;5;28;01mNone\u001b[39;00m:\n\u001b[32m    527\u001b[39m         kwargs[\u001b[33m\"\u001b[39m\u001b[33mshape\u001b[39m\u001b[33m\"\u001b[39m] = \u001b[38;5;28mtuple\u001b[39m(observed.shape)\n\u001b[32m--> \u001b[39m\u001b[32m529\u001b[39m rv_out = \u001b[38;5;28;43mcls\u001b[39;49m\u001b[43m.\u001b[49m\u001b[43mdist\u001b[49m\u001b[43m(\u001b[49m\u001b[43m*\u001b[49m\u001b[43margs\u001b[49m\u001b[43m,\u001b[49m\u001b[43m \u001b[49m\u001b[43m*\u001b[49m\u001b[43m*\u001b[49m\u001b[43mkwargs\u001b[49m\u001b[43m)\u001b[49m\n\u001b[32m    531\u001b[39m rv_out = model.register_rv(\n\u001b[32m    532\u001b[39m     rv_out,\n\u001b[32m    533\u001b[39m     name,\n\u001b[32m   (...)\u001b[39m\u001b[32m    539\u001b[39m     initval=initval,\n\u001b[32m    540\u001b[39m )\n\u001b[32m    542\u001b[39m \u001b[38;5;66;03m# add in pretty-printing support\u001b[39;00m\n",
      "\u001b[36mFile \u001b[39m\u001b[32mc:\\Users\\mintesinot\\week_10\\venv\\Lib\\site-packages\\pymc\\distributions\\continuous.py:491\u001b[39m, in \u001b[36mNormal.dist\u001b[39m\u001b[34m(cls, mu, sigma, tau, **kwargs)\u001b[39m\n\u001b[32m    489\u001b[39m sigma = pt.as_tensor_variable(sigma)\n\u001b[32m    490\u001b[39m mu = pt.as_tensor_variable(mu)\n\u001b[32m--> \u001b[39m\u001b[32m491\u001b[39m \u001b[38;5;28;01mreturn\u001b[39;00m \u001b[38;5;28;43msuper\u001b[39;49m\u001b[43m(\u001b[49m\u001b[43m)\u001b[49m\u001b[43m.\u001b[49m\u001b[43mdist\u001b[49m\u001b[43m(\u001b[49m\u001b[43m[\u001b[49m\u001b[43mmu\u001b[49m\u001b[43m,\u001b[49m\u001b[43m \u001b[49m\u001b[43msigma\u001b[49m\u001b[43m]\u001b[49m\u001b[43m,\u001b[49m\u001b[43m \u001b[49m\u001b[43m*\u001b[49m\u001b[43m*\u001b[49m\u001b[43mkwargs\u001b[49m\u001b[43m)\u001b[49m\n",
      "\u001b[36mFile \u001b[39m\u001b[32mc:\\Users\\mintesinot\\week_10\\venv\\Lib\\site-packages\\pymc\\distributions\\distribution.py:598\u001b[39m, in \u001b[36mDistribution.dist\u001b[39m\u001b[34m(cls, dist_params, shape, **kwargs)\u001b[39m\n\u001b[32m    595\u001b[39m     ndim_supp = \u001b[38;5;28mcls\u001b[39m.rv_op(*dist_params, **kwargs).owner.op.ndim_supp\n\u001b[32m    597\u001b[39m create_size = find_size(shape=shape, size=size, ndim_supp=ndim_supp)\n\u001b[32m--> \u001b[39m\u001b[32m598\u001b[39m \u001b[38;5;28;01mreturn\u001b[39;00m \u001b[38;5;28;43mcls\u001b[39;49m\u001b[43m.\u001b[49m\u001b[43mrv_op\u001b[49m\u001b[43m(\u001b[49m\u001b[43m*\u001b[49m\u001b[43mdist_params\u001b[49m\u001b[43m,\u001b[49m\u001b[43m \u001b[49m\u001b[43msize\u001b[49m\u001b[43m=\u001b[49m\u001b[43mcreate_size\u001b[49m\u001b[43m,\u001b[49m\u001b[43m \u001b[49m\u001b[43m*\u001b[49m\u001b[43m*\u001b[49m\u001b[43mkwargs\u001b[49m\u001b[43m)\u001b[49m\n",
      "\u001b[36mFile \u001b[39m\u001b[32mc:\\Users\\mintesinot\\week_10\\venv\\Lib\\site-packages\\pytensor\\tensor\\random\\basic.py:282\u001b[39m, in \u001b[36mNormalRV.__call__\u001b[39m\u001b[34m(self, loc, scale, size, **kwargs)\u001b[39m\n\u001b[32m    261\u001b[39m \u001b[38;5;28;01mdef\u001b[39;00m\u001b[38;5;250m \u001b[39m\u001b[34m__call__\u001b[39m(\u001b[38;5;28mself\u001b[39m, loc=\u001b[32m0.0\u001b[39m, scale=\u001b[32m1.0\u001b[39m, size=\u001b[38;5;28;01mNone\u001b[39;00m, **kwargs):\n\u001b[32m    262\u001b[39m \u001b[38;5;250m    \u001b[39m\u001b[33mr\u001b[39m\u001b[33;03m\"\"\"Draw samples from a normal distribution.\u001b[39;00m\n\u001b[32m    263\u001b[39m \n\u001b[32m    264\u001b[39m \u001b[33;03m    Signature\u001b[39;00m\n\u001b[32m   (...)\u001b[39m\u001b[32m    280\u001b[39m \n\u001b[32m    281\u001b[39m \u001b[33;03m    \"\"\"\u001b[39;00m\n\u001b[32m--> \u001b[39m\u001b[32m282\u001b[39m     \u001b[38;5;28;01mreturn\u001b[39;00m \u001b[38;5;28;43msuper\u001b[39;49m\u001b[43m(\u001b[49m\u001b[43m)\u001b[49m\u001b[43m.\u001b[49m\u001b[34;43m__call__\u001b[39;49m\u001b[43m(\u001b[49m\u001b[43mloc\u001b[49m\u001b[43m,\u001b[49m\u001b[43m \u001b[49m\u001b[43mscale\u001b[49m\u001b[43m,\u001b[49m\u001b[43m \u001b[49m\u001b[43msize\u001b[49m\u001b[43m=\u001b[49m\u001b[43msize\u001b[49m\u001b[43m,\u001b[49m\u001b[43m \u001b[49m\u001b[43m*\u001b[49m\u001b[43m*\u001b[49m\u001b[43mkwargs\u001b[49m\u001b[43m)\u001b[49m\n",
      "\u001b[36mFile \u001b[39m\u001b[32mc:\\Users\\mintesinot\\week_10\\venv\\Lib\\site-packages\\pytensor\\tensor\\random\\op.py:334\u001b[39m, in \u001b[36mRandomVariable.__call__\u001b[39m\u001b[34m(self, size, name, rng, dtype, *args, **kwargs)\u001b[39m\n\u001b[32m    332\u001b[39m     props[\u001b[33m\"\u001b[39m\u001b[33mdtype\u001b[39m\u001b[33m\"\u001b[39m] = dtype\n\u001b[32m    333\u001b[39m     new_op = \u001b[38;5;28mtype\u001b[39m(\u001b[38;5;28mself\u001b[39m)(**props)\n\u001b[32m--> \u001b[39m\u001b[32m334\u001b[39m     \u001b[38;5;28;01mreturn\u001b[39;00m \u001b[43mnew_op\u001b[49m\u001b[43m.\u001b[49m\u001b[34;43m__call__\u001b[39;49m\u001b[43m(\u001b[49m\n\u001b[32m    335\u001b[39m \u001b[43m        \u001b[49m\u001b[43m*\u001b[49m\u001b[43margs\u001b[49m\u001b[43m,\u001b[49m\u001b[43m \u001b[49m\u001b[43msize\u001b[49m\u001b[43m=\u001b[49m\u001b[43msize\u001b[49m\u001b[43m,\u001b[49m\u001b[43m \u001b[49m\u001b[43mname\u001b[49m\u001b[43m=\u001b[49m\u001b[43mname\u001b[49m\u001b[43m,\u001b[49m\u001b[43m \u001b[49m\u001b[43mrng\u001b[49m\u001b[43m=\u001b[49m\u001b[43mrng\u001b[49m\u001b[43m,\u001b[49m\u001b[43m \u001b[49m\u001b[43mdtype\u001b[49m\u001b[43m=\u001b[49m\u001b[43mdtype\u001b[49m\u001b[43m,\u001b[49m\u001b[43m \u001b[49m\u001b[43m*\u001b[49m\u001b[43m*\u001b[49m\u001b[43mkwargs\u001b[49m\n\u001b[32m    336\u001b[39m \u001b[43m    \u001b[49m\u001b[43m)\u001b[49m\n\u001b[32m    338\u001b[39m res = \u001b[38;5;28msuper\u001b[39m().\u001b[34m__call__\u001b[39m(rng, size, *args, **kwargs)\n\u001b[32m    340\u001b[39m \u001b[38;5;28;01mif\u001b[39;00m name \u001b[38;5;129;01mis\u001b[39;00m \u001b[38;5;129;01mnot\u001b[39;00m \u001b[38;5;28;01mNone\u001b[39;00m:\n",
      "\u001b[36mFile \u001b[39m\u001b[32mc:\\Users\\mintesinot\\week_10\\venv\\Lib\\site-packages\\pytensor\\tensor\\random\\basic.py:282\u001b[39m, in \u001b[36mNormalRV.__call__\u001b[39m\u001b[34m(self, loc, scale, size, **kwargs)\u001b[39m\n\u001b[32m    261\u001b[39m \u001b[38;5;28;01mdef\u001b[39;00m\u001b[38;5;250m \u001b[39m\u001b[34m__call__\u001b[39m(\u001b[38;5;28mself\u001b[39m, loc=\u001b[32m0.0\u001b[39m, scale=\u001b[32m1.0\u001b[39m, size=\u001b[38;5;28;01mNone\u001b[39;00m, **kwargs):\n\u001b[32m    262\u001b[39m \u001b[38;5;250m    \u001b[39m\u001b[33mr\u001b[39m\u001b[33;03m\"\"\"Draw samples from a normal distribution.\u001b[39;00m\n\u001b[32m    263\u001b[39m \n\u001b[32m    264\u001b[39m \u001b[33;03m    Signature\u001b[39;00m\n\u001b[32m   (...)\u001b[39m\u001b[32m    280\u001b[39m \n\u001b[32m    281\u001b[39m \u001b[33;03m    \"\"\"\u001b[39;00m\n\u001b[32m--> \u001b[39m\u001b[32m282\u001b[39m     \u001b[38;5;28;01mreturn\u001b[39;00m \u001b[38;5;28;43msuper\u001b[39;49m\u001b[43m(\u001b[49m\u001b[43m)\u001b[49m\u001b[43m.\u001b[49m\u001b[34;43m__call__\u001b[39;49m\u001b[43m(\u001b[49m\u001b[43mloc\u001b[49m\u001b[43m,\u001b[49m\u001b[43m \u001b[49m\u001b[43mscale\u001b[49m\u001b[43m,\u001b[49m\u001b[43m \u001b[49m\u001b[43msize\u001b[49m\u001b[43m=\u001b[49m\u001b[43msize\u001b[49m\u001b[43m,\u001b[49m\u001b[43m \u001b[49m\u001b[43m*\u001b[49m\u001b[43m*\u001b[49m\u001b[43mkwargs\u001b[49m\u001b[43m)\u001b[49m\n",
      "\u001b[36mFile \u001b[39m\u001b[32mc:\\Users\\mintesinot\\week_10\\venv\\Lib\\site-packages\\pytensor\\tensor\\random\\op.py:338\u001b[39m, in \u001b[36mRandomVariable.__call__\u001b[39m\u001b[34m(self, size, name, rng, dtype, *args, **kwargs)\u001b[39m\n\u001b[32m    333\u001b[39m     new_op = \u001b[38;5;28mtype\u001b[39m(\u001b[38;5;28mself\u001b[39m)(**props)\n\u001b[32m    334\u001b[39m     \u001b[38;5;28;01mreturn\u001b[39;00m new_op.\u001b[34m__call__\u001b[39m(\n\u001b[32m    335\u001b[39m         *args, size=size, name=name, rng=rng, dtype=dtype, **kwargs\n\u001b[32m    336\u001b[39m     )\n\u001b[32m--> \u001b[39m\u001b[32m338\u001b[39m res = \u001b[38;5;28;43msuper\u001b[39;49m\u001b[43m(\u001b[49m\u001b[43m)\u001b[49m\u001b[43m.\u001b[49m\u001b[34;43m__call__\u001b[39;49m\u001b[43m(\u001b[49m\u001b[43mrng\u001b[49m\u001b[43m,\u001b[49m\u001b[43m \u001b[49m\u001b[43msize\u001b[49m\u001b[43m,\u001b[49m\u001b[43m \u001b[49m\u001b[43m*\u001b[49m\u001b[43margs\u001b[49m\u001b[43m,\u001b[49m\u001b[43m \u001b[49m\u001b[43m*\u001b[49m\u001b[43m*\u001b[49m\u001b[43mkwargs\u001b[49m\u001b[43m)\u001b[49m\n\u001b[32m    340\u001b[39m \u001b[38;5;28;01mif\u001b[39;00m name \u001b[38;5;129;01mis\u001b[39;00m \u001b[38;5;129;01mnot\u001b[39;00m \u001b[38;5;28;01mNone\u001b[39;00m:\n\u001b[32m    341\u001b[39m     res.name = name\n",
      "\u001b[36mFile \u001b[39m\u001b[32mc:\\Users\\mintesinot\\week_10\\venv\\Lib\\site-packages\\pytensor\\graph\\op.py:293\u001b[39m, in \u001b[36mOp.__call__\u001b[39m\u001b[34m(self, name, return_list, *inputs, **kwargs)\u001b[39m\n\u001b[32m    249\u001b[39m \u001b[38;5;28;01mdef\u001b[39;00m\u001b[38;5;250m \u001b[39m\u001b[34m__call__\u001b[39m(\n\u001b[32m    250\u001b[39m     \u001b[38;5;28mself\u001b[39m, *inputs: Any, name=\u001b[38;5;28;01mNone\u001b[39;00m, return_list=\u001b[38;5;28;01mFalse\u001b[39;00m, **kwargs\n\u001b[32m    251\u001b[39m ) -> Variable | \u001b[38;5;28mlist\u001b[39m[Variable]:\n\u001b[32m    252\u001b[39m \u001b[38;5;250m    \u001b[39m\u001b[33mr\u001b[39m\u001b[33;03m\"\"\"Construct an `Apply` node using :meth:`Op.make_node` and return its outputs.\u001b[39;00m\n\u001b[32m    253\u001b[39m \n\u001b[32m    254\u001b[39m \u001b[33;03m    This method is just a wrapper around :meth:`Op.make_node`.\u001b[39;00m\n\u001b[32m   (...)\u001b[39m\u001b[32m    291\u001b[39m \n\u001b[32m    292\u001b[39m \u001b[33;03m    \"\"\"\u001b[39;00m\n\u001b[32m--> \u001b[39m\u001b[32m293\u001b[39m     node = \u001b[38;5;28;43mself\u001b[39;49m\u001b[43m.\u001b[49m\u001b[43mmake_node\u001b[49m\u001b[43m(\u001b[49m\u001b[43m*\u001b[49m\u001b[43minputs\u001b[49m\u001b[43m,\u001b[49m\u001b[43m \u001b[49m\u001b[43m*\u001b[49m\u001b[43m*\u001b[49m\u001b[43mkwargs\u001b[49m\u001b[43m)\u001b[49m\n\u001b[32m    294\u001b[39m     \u001b[38;5;28;01mif\u001b[39;00m name \u001b[38;5;129;01mis\u001b[39;00m \u001b[38;5;129;01mnot\u001b[39;00m \u001b[38;5;28;01mNone\u001b[39;00m:\n\u001b[32m    295\u001b[39m         \u001b[38;5;28;01mif\u001b[39;00m \u001b[38;5;28mlen\u001b[39m(node.outputs) == \u001b[32m1\u001b[39m:\n",
      "\u001b[31mTypeError\u001b[39m: RandomVariable.make_node() got an unexpected keyword argument 'sd'"
     ]
    }
   ],
   "source": [
    "# Bayesian Change Point Model\n",
    "with pm.Model() as model:\n",
    "    # Prior for the switch point (tau)\n",
    "    tau = pm.DiscreteUniform(\"tau\", lower=0, upper=len(log_returns)-1)\n",
    "    \n",
    "    # Priors for mean log returns before and after the change point\n",
    "    mu_1 = pm.Normal(\"mu_1\", mu=0, sd=0.1)\n",
    "    mu_2 = pm.Normal(\"mu_2\", mu=0, sd=0.1)\n",
    "    \n",
    "    # Prior for standard deviation (volatility)\n",
    "    sigma = pm.HalfNormal(\"sigma\", sd=0.1)\n",
    "    \n",
    "    # Switch function to model change in mean\n",
    "    mu = pm.math.switch(tau >= time_idx[:-1], mu_1, mu_2)\n",
    "    \n",
    "    # Likelihood\n",
    "    likelihood = pm.Normal(\"likelihood\", mu=mu, sd=sigma, observed=log_returns)\n",
    "    \n",
    "    # MCMC sampling\n",
    "    trace = pm.sample(2000, tune=1000, return_inferencedata=True)"
   ]
  },
  {
   "cell_type": "code",
   "execution_count": null,
   "id": "f7b2b561",
   "metadata": {},
   "outputs": [],
   "source": [
    "# Model diagnostics\n",
    "print(az.summary(trace, var_names=[\"tau\", \"mu_1\", \"mu_2\", \"sigma\"]))\n",
    "az.plot_trace(trace, var_names=[\"tau\", \"mu_1\", \"mu_2\", \"sigma\"])\n",
    "plt.show()"
   ]
  },
  {
   "cell_type": "code",
   "execution_count": null,
   "id": "40e3a5bd",
   "metadata": {},
   "outputs": [],
   "source": [
    "# Extract change point date\n",
    "tau_posterior = trace.posterior[\"tau\"].values.flatten()\n",
    "tau_mode = int(np.bincount(tau_posterior).argmax())\n",
    "change_point_date = dates[tau_mode + 1]  # Adjust for log returns offset\n",
    "print(f\"Most probable change point: {change_point_date}\")\n"
   ]
  },
  {
   "cell_type": "code",
   "execution_count": null,
   "id": "8e6e80a5",
   "metadata": {},
   "outputs": [],
   "source": [
    "# Quantify impact\n",
    "mu_1_mean = trace.posterior[\"mu_1\"].mean().values\n",
    "mu_2_mean = trace.posterior[\"mu_2\"].mean().values\n",
    "price_change_percent = (np.exp(mu_2_mean) - np.exp(mu_1_mean)) / np.exp(mu_1_mean) * 100\n",
    "print(f\"Mean log return before: {mu_1_mean:.4f}, after: {mu_2_mean:.4f}\")\n",
    "print(f\"Estimated price change: {price_change_percent:.2f}%\")"
   ]
  },
  {
   "cell_type": "code",
   "execution_count": null,
   "id": "9eb4b41a",
   "metadata": {},
   "outputs": [],
   "source": [
    "# Load event data and associate with change point\n",
    "events = pd.read_csv('events.csv')  # Assumes CSV with 'Event_Date', 'Event_Description'\n",
    "events['Event_Date'] = pd.to_datetime(events['Event_Date'])\n",
    "closest_event = events.iloc[(events['Event_Date'] - change_point_date).abs().argsort()[:1]]\n",
    "print(f\"Closest event: {closest_event['Event_Description'].values[0]} on {closest_event['Event_Date'].values[0]}\")"
   ]
  },
  {
   "cell_type": "code",
   "execution_count": null,
   "id": "a7d22689",
   "metadata": {},
   "outputs": [],
   "source": [
    "# Plot price series with change point\n",
    "plt.figure(figsize=(10, 6))\n",
    "plt.plot(dates, prices, label=\"Brent Oil Price\")\n",
    "plt.axvline(change_point_date, color='r', linestyle='--', label=f\"Change Point: {change_point_date.strftime('%Y-%m-%d')}\")\n",
    "plt.title(\"Brent Oil Prices with Detected Change Point\")\n",
    "plt.xlabel(\"Date\")\n",
    "plt.ylabel(\"Price (USD/barrel)\")\n",
    "plt.legend()\n",
    "plt.show()"
   ]
  }
 ],
 "metadata": {
  "kernelspec": {
   "display_name": "venv",
   "language": "python",
   "name": "python3"
  },
  "language_info": {
   "codemirror_mode": {
    "name": "ipython",
    "version": 3
   },
   "file_extension": ".py",
   "mimetype": "text/x-python",
   "name": "python",
   "nbconvert_exporter": "python",
   "pygments_lexer": "ipython3",
   "version": "3.12.6"
  }
 },
 "nbformat": 4,
 "nbformat_minor": 5
}
